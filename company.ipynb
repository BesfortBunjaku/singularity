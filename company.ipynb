{
 "cells": [
  {
   "cell_type": "markdown",
   "metadata": {},
   "source": [
    "#### Backup DB"
   ]
  },
  {
   "cell_type": "code",
   "execution_count": null,
   "metadata": {},
   "outputs": [],
   "source": [
    "from pymongo import MongoClient\n",
    "import bson\n",
    "\n",
    "client = MongoClient( \"mongodb://localhost:27017\", serverSelectionTimeoutMS=5000, retryWrites=True)\n",
    "database = client[\"singularity\"]\n",
    "collection = database[\"data\"]\n",
    "\n",
    "\n",
    "def write_documents(document_list):\n",
    "    \"\"\"Write a list of documents to a bson file.\"\"\"\n",
    "    with open(r\"c:\\Users\\besff\\OneDrive\\Desktop\\DE Company\\data.bson\", 'wb+') as f:\n",
    "        for doc in document_list:\n",
    "            f.write(bson.BSON.encode(doc))\n",
    "\n",
    "documents = list(collection.find())\n",
    "# Write the documents to the temporary bson file\n",
    "write_documents(documents)"
   ]
  },
  {
   "cell_type": "markdown",
   "metadata": {},
   "source": [
    "#### Format address\n"
   ]
  },
  {
   "cell_type": "code",
   "execution_count": null,
   "metadata": {},
   "outputs": [],
   "source": [
    "from pymongo import MongoClient\n",
    "import bson\n",
    "from address import from_text\n",
    "\n",
    "try:\n",
    "    client = MongoClient( \"mongodb://localhost:27017\", serverSelectionTimeoutMS=5000, retryWrites=True)\n",
    "    database = client[\"singularity\"]\n",
    "    collection = database[\"company_de\"]\n",
    "    for doc in collection.find({\"registered_address\": {\"$exists\": True}}):\n",
    "        raddress = doc[\"registered_address\"].strip(\".\")\n",
    "        parsed_address = from_text(raddress)\n",
    "        collection.update_one({\"_id\": doc[\"_id\"]}, {\"$set\": {\"addresses\": [parsed_address]}})\n",
    "        \n",
    "finally:\n",
    "    client.close()\n",
    "     "
   ]
  },
  {
   "cell_type": "markdown",
   "metadata": {},
   "source": [
    "Count addresses"
   ]
  },
  {
   "cell_type": "code",
   "execution_count": null,
   "metadata": {},
   "outputs": [],
   "source": [
    "from pymongo import MongoClient\n",
    "\n",
    " \n",
    "client = MongoClient( \"mongodb://localhost:27017\", serverSelectionTimeoutMS=5000, retryWrites=True)\n",
    "database = client[\"singularity\"]\n",
    "collection = database[\"data\"]\n",
    "count = collection.count_documents({\"addresses\": {\"$exists\": True}} )\n",
    "count   "
   ]
  },
  {
   "cell_type": "markdown",
   "metadata": {},
   "source": [
    "Format website"
   ]
  },
  {
   "cell_type": "code",
   "execution_count": null,
   "metadata": {},
   "outputs": [],
   "source": [
    "import pandas as pd\n",
    "from website import split_website\n",
    "from pymongo import MongoClient\n",
    "\n",
    "client = MongoClient( \"mongodb://localhost:27017\", serverSelectionTimeoutMS=5000, retryWrites=True)\n",
    "database = client[\"singularity\"]\n",
    "collection = database[\"data\"]\n",
    "for doc in collection.find({\"website\": {\"$exists\": True}}):\n",
    "    splited_website = split_website(doc[\"website\"])\n",
    "    collection.update_one({\"_id\": doc[\"_id\"]}, {\"$set\": {\"websites\": [splited_website]}})\n",
    "     "
   ]
  },
  {
   "cell_type": "code",
   "execution_count": null,
   "metadata": {},
   "outputs": [],
   "source": [
    "import pandas as pd\n",
    "import dataextension as dx\n",
    "\n",
    "df =  dx.read_sqlite(db_file=r\"d:\\DBFV.db\", table_name=\"All_Leads_DE\")\n",
    "df = df.rename(columns={\"CompanyName\": \"name\", \"Domain\": \"website\", \"Telephone\": \"phone\",\"Gender\":\"gender\",\"Contact\":\"contact\",\"Location\":\"location\"})\n",
    "df = df[[\"name\",\"website\",\"phone\",\"gender\",\"contact\",\"location\"]]\n",
    "df.to_csv(r\"d1.csv\", index=False)"
   ]
  },
  {
   "cell_type": "code",
   "execution_count": null,
   "metadata": {},
   "outputs": [],
   "source": [
    "from pymongo import MongoClient\n",
    "\n",
    "client = MongoClient( \"mongodb://localhost:27017\", serverSelectionTimeoutMS=5000, retryWrites=True)\n",
    "database = client[\"singularity\"]\n",
    "collection = database[\"company_de\"]\n",
    "collection.update_many({}, {\"$unset\": {\"website\": \"\"}})"
   ]
  },
  {
   "cell_type": "code",
   "execution_count": 1,
   "metadata": {},
   "outputs": [
    {
     "data": {
      "text/plain": [
       "458152"
      ]
     },
     "execution_count": 1,
     "metadata": {},
     "output_type": "execute_result"
    }
   ],
   "source": [
    "from pymongo import MongoClient\n",
    "#434780\n",
    "client = MongoClient( \"mongodb://localhost:27017\", serverSelectionTimeoutMS=5000, retryWrites=True)\n",
    "database = client[\"singularity\"]\n",
    "collection = database[\"company_de\"]\n",
    "count = collection.count_documents({\"websites\": {\"$exists\": True}} )\n",
    "count"
   ]
  },
  {
   "cell_type": "code",
   "execution_count": null,
   "metadata": {},
   "outputs": [],
   "source": [
    "from pymongo import MongoClient\n",
    "client = MongoClient( \"mongodb://localhost:27017\", serverSelectionTimeoutMS=5000, retryWrites=True)\n",
    "database = client[\"singularity\"]\n",
    "collection = database[\"company_de\"]\n",
    "# Define the criteria to find the document with the website.domain containing \"northdata\"\n",
    "criteria = {\"websites.domain\": \"northdata\"}\n",
    "\n",
    "# Use the $pull operator to remove the matching object from the list\n",
    "update_query = {\"$pull\": {\"websites\": {\"domain\": \"northdata\"}}}\n",
    "\n",
    "# Update the document\n",
    "collection.update_many(criteria, update_query)"
   ]
  },
  {
   "cell_type": "code",
   "execution_count": null,
   "metadata": {},
   "outputs": [],
   "source": [
    "# from pymongo import MongoClient\n",
    "# import pymongo\n",
    "\n",
    "# client = MongoClient( \"mongodb://localhost:27017\", serverSelectionTimeoutMS=5000, retryWrites=True)\n",
    "# database = client[\"singularity\"]\n",
    "# collection = database[\"company_de\"]\n",
    "# collection.create_index([(\"websites\", pymongo.ASCENDING)], unique=True)\n"
   ]
  }
 ],
 "metadata": {
  "kernelspec": {
   "display_name": "singularity-gZmMrD2x-py3.11",
   "language": "python",
   "name": "python3"
  },
  "language_info": {
   "codemirror_mode": {
    "name": "ipython",
    "version": 3
   },
   "file_extension": ".py",
   "mimetype": "text/x-python",
   "name": "python",
   "nbconvert_exporter": "python",
   "pygments_lexer": "ipython3",
   "version": "3.11.2"
  },
  "orig_nbformat": 4
 },
 "nbformat": 4,
 "nbformat_minor": 2
}
