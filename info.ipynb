{
 "cells": [
  {
   "cell_type": "code",
   "execution_count": 3,
   "metadata": {},
   "outputs": [
    {
     "name": "stderr",
     "output_type": "stream",
     "text": [
      "c:\\Users\\besff\\AppData\\Local\\pypoetry\\Cache\\virtualenvs\\singularity-gZmMrD2x-py3.11\\Lib\\site-packages\\gspread\\auth.py:63: DeprecationWarning: [Deprecated][in version 6.0.0]: client_factory will be replaced by gspread.http_client types\n",
      "  warnings.warn(\n"
     ]
    },
    {
     "data": {
      "text/plain": [
       "Index(['id', 'job_title', 'date', 'job_description', 'jobs', 'echobot link',\n",
       "       'linkedin oder xing link', 'title', 'first_name', 'last_name', 'email',\n",
       "       'telephone', 'company number (google numbers)', 'company_name',\n",
       "       'website', 'industry', 'link', 'faddress'],\n",
       "      dtype='object')"
      ]
     },
     "execution_count": 3,
     "metadata": {},
     "output_type": "execute_result"
    }
   ],
   "source": [
    "import pandas as pd\n",
    "import  dataextension as dx\n",
    "import janitor\n",
    "\n",
    "# Read data\n",
    "df  = dx.read_sheet(sheet_name=\"Leads21112022\", spreadsheet_name=\"DriverHeroLeads\")\n",
    "df.concatenate_columns(column_names=[\"address\", \"zip_code\",\"location\"], new_column_name=\"faddress\", sep=\", \")\n",
    "df.drop(columns=[\"address\", \"zip_code\",\"location\"], inplace=True)\n",
    "df.columns\n",
    "\n"
   ]
  }
 ],
 "metadata": {
  "kernelspec": {
   "display_name": "singularity-gZmMrD2x-py3.11",
   "language": "python",
   "name": "python3"
  },
  "language_info": {
   "codemirror_mode": {
    "name": "ipython",
    "version": 3
   },
   "file_extension": ".py",
   "mimetype": "text/x-python",
   "name": "python",
   "nbconvert_exporter": "python",
   "pygments_lexer": "ipython3",
   "version": "3.11.2"
  },
  "orig_nbformat": 4
 },
 "nbformat": 4,
 "nbformat_minor": 2
}
