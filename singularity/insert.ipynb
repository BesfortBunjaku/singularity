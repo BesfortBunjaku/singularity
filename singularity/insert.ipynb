{
 "cells": [
  {
   "cell_type": "code",
   "execution_count": null,
   "metadata": {},
   "outputs": [],
   "source": [
    "from tqdm import tqdm\n",
    "import pandas as pd\n",
    "import re\n",
    "import hashlib\n",
    "from address import islocation\n",
    "import bson\n",
    "from pymongo import MongoClient\n",
    "\n",
    "client = MongoClient( \"mongodb://localhost:27017\", serverSelectionTimeoutMS=5000, retryWrites=True)\n",
    "database = client[\"singularity\"]\n",
    "collection = database[\"location_de\"]\n",
    "\n",
    "\n",
    "def read_bson(file_path: str) -> dict:\n",
    "    \"\"\" Read the bson file\n",
    "\n",
    "    Args:\n",
    "        file_path (str): File path\n",
    "\n",
    "    Returns:\n",
    "        dict: Dictionary of the bson file\n",
    "    \n",
    "    Examples:\n",
    "        >>> mongo = Mongo()\n",
    "        >>> mongo.read_bson(file_path = DATA_DIR + f'\\cx_process_raw.bson')\n",
    "    \"\"\"        \n",
    "    with open(file_path, 'rb') as f:\n",
    "        data = bson.decode_all(f.read())\n",
    "    return data\n",
    "\n",
    "\n",
    "def write_documents(document_list, file_path):\n",
    "    \"\"\"Write a list of documents to a bson file.\"\"\"\n",
    "    with open(file_path, 'wb+') as f:\n",
    "        for doc in document_list:\n",
    "            f.write(bson.BSON.encode(doc))\n",
    "\n",
    "def cid(row):\n",
    "    # Define a list of German legal forms to remove\n",
    "    german_legal_forms = ['gmbh','ggmbh','ag', 'mbh', 'gbg', 'eg', 'ug', 'kg', 'ohg', 'partg', 'se', 'ev','ek','haftungsbeschränkt','gbr','co','kgaa','bs','cokg','gmbhcokg','mbhco','g','gmbhco','gesellschaft mit beschränkter haftung']\n",
    "    # Create a regular expression pattern to match the legal forms\n",
    "    pattern = r'\\b(?:' + '|'.join(german_legal_forms) + r')\\b'\n",
    "    company1 = row['name'].split() \n",
    "    company2 = [word for word in company1 if not islocation(word)]\n",
    "    company3 = ' '.join(company2)\n",
    "    company4 = re.sub(r'[^a-zA-Z\\s0-9äöüÄÖÜß]', '', company3)\n",
    "    company5 = ' '.join(company4.split())\n",
    "\n",
    "    # Use re.sub to replace the matched legal forms with an empty string\n",
    "    without_legal_forms = re.sub(pattern, '', company5.lower(), flags=re.IGNORECASE)\n",
    "\n",
    "    # Step 1: Normalize the company name (convert to lowercase and remove spaces)\n",
    "    normalized_name = without_legal_forms.lower().replace(\" \", \"\")\n",
    "\n",
    "    # Step 2: Create a hash using SHA-256\n",
    "    hash_object = hashlib.sha256(normalized_name.encode())\n",
    "    hashed_name = hash_object.hexdigest()\n",
    "    return hashed_name\n",
    "   \n",
    "\n",
    "# bson_data = read_bson(r\"C:\\Users\\besff\\OneDrive\\Desktop\\DE Company\\data.bson\")\n",
    "# df = pd.DataFrame(bson_data)\n",
    "# df = df.drop(columns=['_id'])\n",
    "# tqdm.pandas(desc=\"HashID\",colour='yellow')\n",
    "# df[\"_id\"] = df.progress_apply(cid, axis=1)\n",
    "# write_documents(df.to_dict('records'),r\"C:\\Users\\besff\\OneDrive\\Documents\\GitHub\\singularity\\singularity\\data\")\n",
    "    # chunk.to_json(r\"C:\\Users\\besff\\OneDrive\\Documents\\GitHub\\singularity\\singularity\\data\\data.json\",orient='records',lines=True, mode='a', index=False)\n",
    "# tqdm.pandas(desc=\"HashID\",colour='yellow')\n",
    "# df[\"_id\"] = df.progress_apply(cid, axis=1)\n",
    "# df.to_csv(r\"C:\\Users\\besff\\OneDrive\\Documents\\GitHub\\singularity\\singularity\\c1\", index=False)\n",
    "# df.head()"
   ]
  },
  {
   "cell_type": "code",
   "execution_count": 2,
   "metadata": {},
   "outputs": [
    {
     "name": "stdout",
     "output_type": "stream",
     "text": [
      "{frozenset({('key1', 'value1'), ('key2', 'value2')})}\n"
     ]
    }
   ],
   "source": [
    "# Create two dictionaries with the same content\n",
    "dict1 = {\"key1\": \"value1\", \"key2\": \"value2\"}\n",
    "dict2 = {\"key1\": \"value1\", \"key2\": \"value2\"}\n",
    "\n",
    "# Convert the dictionaries to frozensets\n",
    "frozen_dict1 = frozenset(dict1.items())\n",
    "frozen_dict2 = frozenset(dict2.items())\n",
    "\n",
    "# Create a set and add the frozensets\n",
    "my_set = set()\n",
    "my_set.add(frozen_dict1)\n",
    "my_set.add(frozen_dict2)\n",
    "\n",
    "# Check the contents of the set\n",
    "print(my_set)"
   ]
  }
 ],
 "metadata": {
  "kernelspec": {
   "display_name": "singularity-gZmMrD2x-py3.11",
   "language": "python",
   "name": "python3"
  },
  "language_info": {
   "codemirror_mode": {
    "name": "ipython",
    "version": 3
   },
   "file_extension": ".py",
   "mimetype": "text/x-python",
   "name": "python",
   "nbconvert_exporter": "python",
   "pygments_lexer": "ipython3",
   "version": "3.11.2"
  },
  "orig_nbformat": 4
 },
 "nbformat": 4,
 "nbformat_minor": 2
}
